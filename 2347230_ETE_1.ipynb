{
  "nbformat": 4,
  "nbformat_minor": 0,
  "metadata": {
    "colab": {
      "provenance": []
    },
    "kernelspec": {
      "name": "python3",
      "display_name": "Python 3"
    },
    "language_info": {
      "name": "python"
    }
  },
  "cells": [
    {
      "cell_type": "markdown",
      "source": [
        "# Kavaskar 2347230\n"
      ],
      "metadata": {
        "id": "VOz9g8z0AIZ_"
      }
    },
    {
      "cell_type": "markdown",
      "source": [
        "Scenario:\n",
        "The XOR gate is known for its complexity, as it outputs 1 only when the inputs are different.\n",
        "This is a challenge for a Single Layer Perceptron since XOR is not linearly separable.\n",
        "• Lab Task: Attempt to implement a Single Layer Perceptron in Google Colab to classify the\n",
        "output of an XOR gate. Perform the following steps:\n",
        "• Create the XOR gate's truth table dataset.\n",
        "• Implement the perceptron model and train it using the XOR dataset using MCP (McCulloch\n",
        "Pitts) Neuron.\n",
        "• Observe and discuss the perceptron's performance in this scenario.\n",
        "• Implement XOR using Multi-Layer Perceptron."
      ],
      "metadata": {
        "id": "1_t-O0qF80Bi"
      }
    },
    {
      "cell_type": "markdown",
      "source": [
        "### 1. Create XOR Truth Table Dataset\n",
        "\n",
        "First, let's define the XOR gate's truth table:\n",
        "\n",
        "| Input 1 | Input 2 | XOR Output |\n",
        "|---------|---------|------------|\n",
        "|    0    |    0    |     0      |\n",
        "|    0    |    1    |     1      |\n",
        "|    1    |    0    |     1      |\n",
        "|    1    |    1    |     0      |\n"
      ],
      "metadata": {
        "id": "utMaNWyb-Mkq"
      }
    },
    {
      "cell_type": "markdown",
      "source": [
        "### 2. Single Layer Perceptron Model for XOR (MCP Neuron)\n",
        "\n",
        "A Single Layer Perceptron (SLP) cannot solve the XOR problem as it's not linearly separable. However, we'll attempt to train it and observe its performance."
      ],
      "metadata": {
        "id": "4Mbht6lc-cKg"
      }
    },
    {
      "cell_type": "code",
      "source": [
        "import numpy as np\n",
        "\n",
        "# XOR dataset\n",
        "X = np.array([[0, 0], [0, 1], [1, 0], [1, 1]])\n",
        "y = np.array([0, 1, 1, 0])\n",
        "\n",
        "# Perceptron parameters\n",
        "weights = np.random.rand(2)  # Initialize weights randomly\n",
        "bias = np.random.rand(1)\n",
        "learning_rate = 0.1\n",
        "epochs = 100\n",
        "\n",
        "# Activation function: Step Function\n",
        "def step_function(x):\n",
        "    return 1 if x >= 0 else 0\n",
        "\n",
        "# Perceptron training\n",
        "for epoch in range(epochs):\n",
        "    for i in range(len(X)):\n",
        "        # Weighted sum\n",
        "        linear_output = np.dot(X[i], weights) + bias\n",
        "        # Activation output\n",
        "        prediction = step_function(linear_output)\n",
        "        # Error calculation\n",
        "        error = y[i] - prediction\n",
        "        # Update rule\n",
        "        weights += learning_rate * error * X[i]\n",
        "        bias += learning_rate * error\n",
        "\n",
        "# Testing the trained perceptron\n",
        "for x in X:\n",
        "    linear_output = np.dot(x, weights) + bias\n",
        "    prediction = step_function(linear_output)\n",
        "    print(f\"Input: {x}, Predicted Output: {prediction}\")"
      ],
      "metadata": {
        "colab": {
          "base_uri": "https://localhost:8080/"
        },
        "id": "61YZ369U9URk",
        "outputId": "21f06ee8-0585-46d1-9a03-c322a57b81a9"
      },
      "execution_count": 2,
      "outputs": [
        {
          "output_type": "stream",
          "name": "stdout",
          "text": [
            "Input: [0 0], Predicted Output: 1\n",
            "Input: [0 1], Predicted Output: 1\n",
            "Input: [1 0], Predicted Output: 0\n",
            "Input: [1 1], Predicted Output: 0\n"
          ]
        }
      ]
    },
    {
      "cell_type": "markdown",
      "source": [
        "\n",
        "#### Observations:\n",
        "- You will likely notice that the perceptron won't be able to classify XOR accurately because it is a linearly inseparable problem. The performance will not be good for XOR.\n"
      ],
      "metadata": {
        "id": "IAxaRmDX-84x"
      }
    },
    {
      "cell_type": "markdown",
      "source": [
        "\n",
        "### 3. Multi-Layer Perceptron (MLP) for XOR\n",
        "\n",
        "A Multi-Layer Perceptron (MLP) with one hidden layer can solve the XOR problem. This uses backpropagation to adjust weights across layers.\n",
        "\n",
        "#### Code for Multi-Layer Perceptron:\n",
        "\n",
        "\n"
      ],
      "metadata": {
        "id": "M5w-BGa39U5Y"
      }
    },
    {
      "cell_type": "code",
      "source": [
        "import numpy as np\n",
        "import tensorflow as tf\n",
        "from tensorflow.keras.models import Sequential\n",
        "from tensorflow.keras.layers import Dense\n",
        "\n",
        "# XOR dataset\n",
        "X = np.array([[0, 0], [0, 1], [1, 0], [1, 1]])\n",
        "y = np.array([0, 1, 1, 0])\n",
        "\n",
        "# MLP model definition\n",
        "model = Sequential()\n",
        "model.add(Dense(4, input_dim=2, activation='relu'))  # Increase hidden layer neurons to 4\n",
        "model.add(Dense(1, activation='sigmoid'))  # Output layer with sigmoid activation\n",
        "\n",
        "# Compile the model\n",
        "model.compile(optimizer='adam', loss='binary_crossentropy', metrics=['accuracy'])\n",
        "\n",
        "# Train the model\n",
        "model.fit(X, y, epochs=10000, verbose=0)  # Increase epochs for better training\n",
        "\n",
        "# Test the model\n",
        "predictions = model.predict(X)\n",
        "for i in range(len(X)):\n",
        "    print(f\"Input: {X[i]}, Predicted Output: {np.round(predictions[i])}\")\n"
      ],
      "metadata": {
        "id": "gmpxhZL2_SAD"
      },
      "execution_count": null,
      "outputs": []
    },
    {
      "cell_type": "markdown",
      "source": [
        "\n",
        "#### Observations:\n",
        "- The MLP will be able to classify the XOR gate correctly, with the output approximating the expected values (0, 1, 1, 0).\n",
        "  \n",
        "#### Explanation:\n",
        "- **Single Layer Perceptron** fails because XOR is non-linearly separable.\n",
        "- **Multi-Layer Perceptron** introduces hidden layers with non-linear activation functions, which allows it to capture the non-linearity of the XOR problem."
      ],
      "metadata": {
        "id": "hY0yMMAD_noM"
      }
    },
    {
      "cell_type": "markdown",
      "source": [
        "# Q2 (b)"
      ],
      "metadata": {
        "id": "TaBoRbkKGe9J"
      }
    },
    {
      "cell_type": "markdown",
      "source": [
        "To perform sentiment analysis using an Artificial Neural Network (ANN) on the IMDb dataset, I'll walk you through the process, from data preprocessing to model design, training, and evaluation. This task will involve trimming the dataset, preprocessing the text data, and building an ANN for binary classification (positive/negative sentiment).\n"
      ],
      "metadata": {
        "id": "jsfAsy0fAhvf"
      }
    },
    {
      "cell_type": "code",
      "source": [
        "# Import necessary libraries\n",
        "import pandas as pd\n",
        "import numpy as np\n",
        "import re\n",
        "from sklearn.model_selection import train_test_split\n",
        "from sklearn.feature_extraction.text import TfidfVectorizer\n",
        "from tensorflow.keras.models import Sequential\n",
        "from tensorflow.keras.layers import Dense\n",
        "from tensorflow.keras.optimizers import Adam\n",
        "import matplotlib.pyplot as plt\n",
        "from sklearn.metrics import accuracy_score, confusion_matrix"
      ],
      "metadata": {
        "id": "aBsI8VSCCy99"
      },
      "execution_count": 10,
      "outputs": []
    },
    {
      "cell_type": "code",
      "source": [
        "# Step 1: Load and Trim Dataset\n",
        "df = pd.read_csv('/content/imdb.csv')\n",
        "df = df.sample(n=10000, random_state=42)"
      ],
      "metadata": {
        "id": "QYLZ47wuC7Ew"
      },
      "execution_count": 17,
      "outputs": []
    },
    {
      "cell_type": "markdown",
      "source": [
        "\n",
        "### 1. **Preprocessing Steps**\n",
        "\n",
        "1. **Loading and Trimming the Dataset:**\n",
        "   Since the dataset contains 50,000 rows, we'll trim it to a manageable size for demonstration purposes (e.g., 10,000 rows).\n",
        "   \n",
        "2. **Cleaning the Data:**\n",
        "   We'll remove HTML tags, special characters, and other unnecessary elements from the reviews. Tokenization and stemming/lemmatization will be applied for consistency.\n",
        "\n",
        "3. **Vectorization:**\n",
        "   Convert the text data into numerical form using techniques like **TF-IDF** or **Word Embeddings**. For simplicity, we'll use TF-IDF here.\n",
        "\n",
        "4. **Splitting the Data:**\n",
        "   The dataset will be split into a training set (80%) and a testing set (20%).\n",
        "\n",
        "5. **Normalization:**\n",
        "   Normalize the input features to ensure that the neural network trains efficiently.\n",
        "\n"
      ],
      "metadata": {
        "id": "D-JE840HGMs1"
      }
    },
    {
      "cell_type": "code",
      "source": [
        "# Step 2: Preprocessing\n",
        "def clean_text(text):\n",
        "    # Remove HTML tags\n",
        "    text = re.sub(r'<.*?>', '', text)\n",
        "    # Remove special characters and numbers\n",
        "    text = re.sub(r'[^a-zA-Z\\s]', '', text)\n",
        "    # Convert to lowercase\n",
        "    text = text.lower()\n",
        "    return text\n",
        "\n",
        "df['review'] = df['review'].apply(clean_text)"
      ],
      "metadata": {
        "id": "kPgiXx-dEZxu"
      },
      "execution_count": 19,
      "outputs": []
    },
    {
      "cell_type": "code",
      "source": [
        "# Step 3: Vectorization (TF-IDF)\n",
        "vectorizer = TfidfVectorizer(max_features=5000)  # Limit to top 5000 features for performance\n",
        "X = vectorizer.fit_transform(df['review']).toarray()\n",
        "y = df['sentiment'].apply(lambda x: 1 if x == 'positive' else 0).values  # Binary labels\n"
      ],
      "metadata": {
        "id": "C26zX9Y0EPij"
      },
      "execution_count": 20,
      "outputs": []
    },
    {
      "cell_type": "code",
      "source": [
        "# Step 4: Train-Test Split\n",
        "X_train, X_test, y_train, y_test = train_test_split(X, y, test_size=0.2, random_state=42)"
      ],
      "metadata": {
        "id": "XrPc5VjbEwu5"
      },
      "execution_count": 21,
      "outputs": []
    },
    {
      "cell_type": "markdown",
      "source": [
        "### 2. **Model Architecture**\n",
        "\n",
        "We'll design a basic ANN with:\n",
        "- **Input layer** corresponding to the number of features (e.g., TF-IDF features).\n",
        "- **One or more hidden layers** using the **ReLU** activation function.\n",
        "- **Output layer** with a **sigmoid** activation function for binary classification.\n",
        "\n",
        "The loss function used will be **binary cross-entropy**, which is suitable for binary classification tasks.\n",
        "\n"
      ],
      "metadata": {
        "id": "_vLLx9g0Gtgk"
      }
    },
    {
      "cell_type": "code",
      "source": [
        "# Step 5: Define ANN Model\n",
        "model = Sequential()\n",
        "model.add(Dense(128, input_dim=5000, activation='relu'))  # Hidden layer with 128 neurons\n",
        "model.add(Dense(64, activation='relu'))  # Another hidden layer with 64 neurons\n",
        "model.add(Dense(1, activation='sigmoid'))  # Output layer for binary classification\n"
      ],
      "metadata": {
        "colab": {
          "base_uri": "https://localhost:8080/"
        },
        "id": "3Ab-SF57E5Jt",
        "outputId": "2f53c2e1-259b-41bc-dd91-b6ebc8084acf"
      },
      "execution_count": 22,
      "outputs": [
        {
          "output_type": "stream",
          "name": "stderr",
          "text": [
            "/usr/local/lib/python3.10/dist-packages/keras/src/layers/core/dense.py:87: UserWarning: Do not pass an `input_shape`/`input_dim` argument to a layer. When using Sequential models, prefer using an `Input(shape)` object as the first layer in the model instead.\n",
            "  super().__init__(activity_regularizer=activity_regularizer, **kwargs)\n"
          ]
        }
      ]
    },
    {
      "cell_type": "code",
      "source": [
        "# Step 6: Compile the Model\n",
        "model.compile(optimizer=Adam(learning_rate=0.001), loss='binary_crossentropy', metrics=['accuracy'])"
      ],
      "metadata": {
        "id": "xWRXkMXIE9of"
      },
      "execution_count": 23,
      "outputs": []
    },
    {
      "cell_type": "code",
      "source": [
        "# Step 7: Train the Model\n",
        "history = model.fit(X_train, y_train, epochs=10, batch_size=32, validation_data=(X_test, y_test))"
      ],
      "metadata": {
        "colab": {
          "base_uri": "https://localhost:8080/"
        },
        "id": "G-pCnSsTFCho",
        "outputId": "05de31a9-9f8b-46a7-dc53-8640e17d3acb"
      },
      "execution_count": 24,
      "outputs": [
        {
          "output_type": "stream",
          "name": "stdout",
          "text": [
            "Epoch 1/10\n",
            "\u001b[1m250/250\u001b[0m \u001b[32m━━━━━━━━━━━━━━━━━━━━\u001b[0m\u001b[37m\u001b[0m \u001b[1m5s\u001b[0m 17ms/step - accuracy: 0.7641 - loss: 0.5214 - val_accuracy: 0.8740 - val_loss: 0.2887\n",
            "Epoch 2/10\n",
            "\u001b[1m250/250\u001b[0m \u001b[32m━━━━━━━━━━━━━━━━━━━━\u001b[0m\u001b[37m\u001b[0m \u001b[1m4s\u001b[0m 15ms/step - accuracy: 0.9442 - loss: 0.1571 - val_accuracy: 0.8610 - val_loss: 0.3611\n",
            "Epoch 3/10\n",
            "\u001b[1m250/250\u001b[0m \u001b[32m━━━━━━━━━━━━━━━━━━━━\u001b[0m\u001b[37m\u001b[0m \u001b[1m4s\u001b[0m 10ms/step - accuracy: 0.9762 - loss: 0.0831 - val_accuracy: 0.8505 - val_loss: 0.4479\n",
            "Epoch 4/10\n",
            "\u001b[1m250/250\u001b[0m \u001b[32m━━━━━━━━━━━━━━━━━━━━\u001b[0m\u001b[37m\u001b[0m \u001b[1m6s\u001b[0m 12ms/step - accuracy: 0.9883 - loss: 0.0412 - val_accuracy: 0.8420 - val_loss: 0.5983\n",
            "Epoch 5/10\n",
            "\u001b[1m250/250\u001b[0m \u001b[32m━━━━━━━━━━━━━━━━━━━━\u001b[0m\u001b[37m\u001b[0m \u001b[1m5s\u001b[0m 10ms/step - accuracy: 0.9975 - loss: 0.0147 - val_accuracy: 0.8415 - val_loss: 0.6985\n",
            "Epoch 6/10\n",
            "\u001b[1m250/250\u001b[0m \u001b[32m━━━━━━━━━━━━━━━━━━━━\u001b[0m\u001b[37m\u001b[0m \u001b[1m3s\u001b[0m 10ms/step - accuracy: 1.0000 - loss: 0.0032 - val_accuracy: 0.8400 - val_loss: 0.7851\n",
            "Epoch 7/10\n",
            "\u001b[1m250/250\u001b[0m \u001b[32m━━━━━━━━━━━━━━━━━━━━\u001b[0m\u001b[37m\u001b[0m \u001b[1m3s\u001b[0m 10ms/step - accuracy: 1.0000 - loss: 0.0011 - val_accuracy: 0.8405 - val_loss: 0.8510\n",
            "Epoch 8/10\n",
            "\u001b[1m250/250\u001b[0m \u001b[32m━━━━━━━━━━━━━━━━━━━━\u001b[0m\u001b[37m\u001b[0m \u001b[1m6s\u001b[0m 15ms/step - accuracy: 1.0000 - loss: 5.0261e-04 - val_accuracy: 0.8410 - val_loss: 0.9382\n",
            "Epoch 9/10\n",
            "\u001b[1m250/250\u001b[0m \u001b[32m━━━━━━━━━━━━━━━━━━━━\u001b[0m\u001b[37m\u001b[0m \u001b[1m3s\u001b[0m 10ms/step - accuracy: 1.0000 - loss: 2.2890e-04 - val_accuracy: 0.8405 - val_loss: 1.0149\n",
            "Epoch 10/10\n",
            "\u001b[1m250/250\u001b[0m \u001b[32m━━━━━━━━━━━━━━━━━━━━\u001b[0m\u001b[37m\u001b[0m \u001b[1m4s\u001b[0m 17ms/step - accuracy: 1.0000 - loss: 1.1710e-04 - val_accuracy: 0.8405 - val_loss: 1.0758\n"
          ]
        }
      ]
    },
    {
      "cell_type": "code",
      "source": [
        "# Step 8: Evaluate the Model\n",
        "y_pred = (model.predict(X_test) > 0.5).astype(\"int32\")\n",
        "print(f'Accuracy: {accuracy_score(y_test, y_pred)}')\n"
      ],
      "metadata": {
        "colab": {
          "base_uri": "https://localhost:8080/"
        },
        "id": "JC3cxAM0FO0J",
        "outputId": "26bd778c-52c8-40ab-f89d-b326ac3e5c85"
      },
      "execution_count": 25,
      "outputs": [
        {
          "output_type": "stream",
          "name": "stdout",
          "text": [
            "\u001b[1m63/63\u001b[0m \u001b[32m━━━━━━━━━━━━━━━━━━━━\u001b[0m\u001b[37m\u001b[0m \u001b[1m0s\u001b[0m 6ms/step\n",
            "Accuracy: 0.8405\n"
          ]
        }
      ]
    },
    {
      "cell_type": "code",
      "source": [
        "\n",
        "# Step 9: Confusion Matrix\n",
        "cm = confusion_matrix(y_test, y_pred)\n",
        "print('Confusion Matrix:')\n",
        "print(cm)\n"
      ],
      "metadata": {
        "colab": {
          "base_uri": "https://localhost:8080/"
        },
        "id": "OLsFj0uaFW44",
        "outputId": "c945ea33-2ec3-4e2b-e726-7c106a0ff176"
      },
      "execution_count": 26,
      "outputs": [
        {
          "output_type": "stream",
          "name": "stdout",
          "text": [
            "Confusion Matrix:\n",
            "[[818 181]\n",
            " [138 863]]\n"
          ]
        }
      ]
    },
    {
      "cell_type": "code",
      "source": [
        "\n",
        "# Step 10: Visualize Loss and Accuracy\n",
        "plt.plot(history.history['accuracy'], label='Training Accuracy')\n",
        "plt.plot(history.history['val_accuracy'], label='Validation Accuracy')\n",
        "plt.title('Accuracy over epochs')\n",
        "plt.xlabel('Epoch')\n",
        "plt.ylabel('Accuracy')\n",
        "plt.legend()\n",
        "plt.show()\n",
        "\n",
        "plt.plot(history.history['loss'], label='Training Loss')\n",
        "plt.plot(history.history['val_loss'], label='Validation Loss')\n",
        "plt.title('Loss over epochs')\n",
        "plt.xlabel('Epoch')\n",
        "plt.ylabel('Loss')\n",
        "plt.legend()\n",
        "plt.show()"
      ],
      "metadata": {
        "colab": {
          "base_uri": "https://localhost:8080/",
          "height": 927
        },
        "id": "tOfNbsLaFY2u",
        "outputId": "29b0b69f-a371-4649-d74b-cbd959cb09c0"
      },
      "execution_count": 27,
      "outputs": [
        {
          "output_type": "display_data",
          "data": {
            "text/plain": [
              "<Figure size 640x480 with 1 Axes>"
            ],
            "image/png": "[encoded data removed]"
          },
          "metadata": {}
        },
        {
          "output_type": "display_data",
          "data": {
            "text/plain": [
              "<Figure size 640x480 with 1 Axes>"
            ],
            "image/png": "[encoded data removed]"
          },
          "metadata": {}
        }
      ]
    },
    {
      "cell_type": "markdown",
      "source": [
        "\n",
        "\n",
        "### 4. **Explanation of Steps**\n",
        "\n",
        "- **Cleaning the Data:** We remove HTML tags and unnecessary characters from the reviews. This ensures that the input is clean and only contains relevant text data.\n",
        "  \n",
        "- **TF-IDF Vectorization:** The reviews are converted into numerical vectors. Each word's importance in the document is calculated using TF-IDF, and we use only the top 5000 features.\n",
        "\n",
        "- **Model Architecture:**\n",
        "  - **Input Layer:** 5000 features from the TF-IDF vectorizer.\n",
        "  - **Hidden Layers:** We use two hidden layers with **ReLU** activation. ReLU introduces non-linearity, making the model capable of learning complex patterns.\n",
        "  - **Output Layer:** The **sigmoid** activation function is used for binary classification. It outputs a probability between 0 and 1, which is suitable for distinguishing between positive and negative sentiments.\n",
        "\n",
        "- **Loss Function:** **Binary cross-entropy** is appropriate for this task because it measures the performance of a classification model with two classes, comparing the predicted probabilities with the true labels.\n",
        "\n",
        "### 5. **Performance Evaluation**\n",
        "- **Accuracy:** The model's accuracy on the test data is printed after evaluation.\n",
        "- **Confusion Matrix:** It shows the number of true positives, true negatives, false positives, and false negatives.\n",
        "- **Visualization:** Accuracy and loss curves over the epochs are plotted to analyze the model's learning performance.\n",
        "\n",
        "### 6. **Why ReLU and Sigmoid?**\n",
        "- **ReLU (Rectified Linear Unit):** It's computationally efficient and helps to overcome the vanishing gradient problem. It introduces non-linearity, enabling the network to learn more complex features.\n",
        "- **Sigmoid:** Outputs a value between 0 and 1, which can be interpreted as a probability, ideal for binary classification problems.\n",
        "\n",
        "### 7. **Why Binary Cross-Entropy?**\n",
        "- **Binary Cross-Entropy:** It is the standard loss function for binary classification problems because it measures how well the predicted probability distributions match the actual binary labels. The goal is to minimize the cross-entropy loss during training, leading to better predictions.\n",
        "\n",
        "This completes the sentiment analysis task using an Artificial Neural Network (ANN) on the IMDb dataset. Let me know if you need further clarification or modifications!"
      ],
      "metadata": {
        "id": "JopzgPG-G6OE"
      }
    }
  ]
}